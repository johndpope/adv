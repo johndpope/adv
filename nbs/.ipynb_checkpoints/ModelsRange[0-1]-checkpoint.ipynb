{
 "cells": [
  {
   "cell_type": "code",
   "execution_count": 1,
   "metadata": {},
   "outputs": [
    {
     "data": {
      "text/plain": [
       "u'/Users/jm/Onedrive/projects/python/adversarial_experiments/nbs'"
      ]
     },
     "execution_count": 1,
     "metadata": {},
     "output_type": "execute_result"
    }
   ],
   "source": [
    "%pwd\n"
   ]
  },
  {
   "cell_type": "code",
   "execution_count": 2,
   "metadata": {},
   "outputs": [
    {
     "name": "stdout",
     "output_type": "stream",
     "text": [
      "/Users/jm/Onedrive/projects/python/adversarial_experiments\n"
     ]
    }
   ],
   "source": [
    "%cd ..\n"
   ]
  },
  {
   "cell_type": "code",
   "execution_count": null,
   "metadata": {},
   "outputs": [],
   "source": [
    "%cd adv\n"
   ]
  },
  {
   "cell_type": "code",
   "execution_count": null,
   "metadata": {},
   "outputs": [],
   "source": [
    "%ls -la models\n"
   ]
  },
  {
   "cell_type": "code",
   "execution_count": null,
   "metadata": {
    "scrolled": false
   },
   "outputs": [],
   "source": [
    "%run main.py -ds mnist -m mlp -pr True -sc 1 -pv 1234 -eps 0.3\n"
   ]
  },
  {
   "cell_type": "code",
   "execution_count": null,
   "metadata": {},
   "outputs": [],
   "source": [
    "print(np.max(trX))\n",
    "print(np.max(teX))\n",
    "np.save('adv_data/cnn_adv', X_test_adv)\n"
   ]
  },
  {
   "cell_type": "code",
   "execution_count": null,
   "metadata": {},
   "outputs": [],
   "source": [
    "%run main.py -ds mnist -m cnn_model -pr True -sc 1 -pv 1234 -eps 0.3\n"
   ]
  },
  {
   "cell_type": "code",
   "execution_count": null,
   "metadata": {},
   "outputs": [],
   "source": [
    "print(np.max(trX))\n",
    "print(np.max(teX))\n"
   ]
  },
  {
   "cell_type": "code",
   "execution_count": null,
   "metadata": {
    "collapsed": true
   },
   "outputs": [],
   "source": [
    "%run main.py -ds cifar10 -m cnn_model -pr True -sc 1 -pv 1234 -eps 0.3"
   ]
  },
  {
   "cell_type": "code",
   "execution_count": null,
   "metadata": {
    "collapsed": true
   },
   "outputs": [],
   "source": [
    "print(np.max(trX))\n",
    "print(np.max(teX))"
   ]
  },
  {
   "cell_type": "code",
   "execution_count": null,
   "metadata": {},
   "outputs": [],
   "source": [
    "%run main.py -ds mnist -m conv_ae -pr True -sc 1 -pv 1234 -eps 0.3"
   ]
  },
  {
   "cell_type": "code",
   "execution_count": null,
   "metadata": {},
   "outputs": [],
   "source": [
    "print(np.max(trX))\n",
    "print(np.max(teX))"
   ]
  },
  {
   "cell_type": "code",
   "execution_count": null,
   "metadata": {},
   "outputs": [],
   "source": [
    "%run main.py -ds mnist -m resnet -pr True -sc 1 -pv 1234 -eps 0.3"
   ]
  },
  {
   "cell_type": "code",
   "execution_count": null,
   "metadata": {
    "collapsed": true
   },
   "outputs": [],
   "source": [
    "print(np.max(trX))\n",
    "print(np.max(teX))"
   ]
  },
  {
   "cell_type": "code",
   "execution_count": null,
   "metadata": {
    "collapsed": true
   },
   "outputs": [],
   "source": [
    "%run main.py -ds mnist -m irnn -pr True -sc 1 -pv 1234 -eps 0.3"
   ]
  },
  {
   "cell_type": "code",
   "execution_count": null,
   "metadata": {
    "collapsed": true
   },
   "outputs": [],
   "source": [
    "print(np.max(trX))\n",
    "print(np.max(teX))"
   ]
  },
  {
   "cell_type": "code",
   "execution_count": null,
   "metadata": {},
   "outputs": [],
   "source": [
    "%run main.py -ds mnist -m hierarchical -pr True -sc 1 -pv 1234 -eps 0.3"
   ]
  },
  {
   "cell_type": "code",
   "execution_count": null,
   "metadata": {},
   "outputs": [],
   "source": [
    "print(np.max(trX))\n",
    "print(np.max(teX))"
   ]
  },
  {
   "cell_type": "code",
   "execution_count": null,
   "metadata": {
    "collapsed": true
   },
   "outputs": [],
   "source": [
    "print teX.shape\n",
    "print X_test_adv.shape\n",
    "print teY.shape\n",
    "print trY.shape\n",
    "from utils import plot_img_diff\n",
    "plot_img_diff(np.squeeze(teX[1234]), np.squeeze(teX[1234]), 'test')\n"
   ]
  },
  {
   "cell_type": "code",
   "execution_count": 3,
   "metadata": {},
   "outputs": [
    {
     "name": "stderr",
     "output_type": "stream",
     "text": [
      "Using TensorFlow backend.\n"
     ]
    }
   ],
   "source": [
    "from keras.models import load_model\n",
    "from keras.utils import np_utils\n",
    "from keras.datasets import mnist, cifar10\n",
    "import numpy as np\n",
    "import matplotlib.pyplot as plt\n"
   ]
  },
  {
   "cell_type": "code",
   "execution_count": 4,
   "metadata": {},
   "outputs": [
    {
     "name": "stdout",
     "output_type": "stream",
     "text": [
      "((60000, 28, 28, 1), 1.0)\n",
      "(10000, 28, 28, 1)\n"
     ]
    }
   ],
   "source": [
    "(trX, trY), (teX, teY) = mnist.load_data()\n",
    "teX = np.float32(teX / 255.)\n",
    "teX = teX.reshape(-1, 28,28,1)\n",
    "trX = np.float32(trX / 255.)\n",
    "trX = trX.reshape(-1, 28,28,1)\n",
    "trY = np_utils.to_categorical(trY, 10)\n",
    "teY = np_utils.to_categorical(teY, 10)\n",
    "X_test_adv = np.load('adv_data/conv_ae_mnist_adv.npy')\n",
    "print(trX.shape, np.max(trX))\n",
    "print(teX.shape)\n"
   ]
  },
  {
   "cell_type": "code",
   "execution_count": null,
   "metadata": {},
   "outputs": [],
   "source": [
    "(trX, trY), (teX_cifar, teY_cifar) = cifar10.load_data()\n",
    "teX_cifar = np.float32(teX_cifar / 255.)\n",
    "trX = np.float32(trX / 255.)\n",
    "teX_cifar = teX_cifar.reshape(-1, 32*32*3)\n",
    "trX = trX.reshape(-1, 32*32*3)\n",
    "X_test_adv = np.load('adv_data/X_test_adv_cifar.npy')\n",
    "# X_test_adv = X_test_adv.reshape(-1, 32 * 32 * 3)\n",
    "# from keras.datasets import cifar10\n",
    "# (trX, trY), (teX, teY) = cifar10.load_data()\n",
    "print(trX.shape, np.max(trX))"
   ]
  },
  {
   "cell_type": "code",
   "execution_count": null,
   "metadata": {},
   "outputs": [],
   "source": [
    "from utils import plot_kde"
   ]
  },
  {
   "cell_type": "code",
   "execution_count": null,
   "metadata": {},
   "outputs": [],
   "source": [
    "plot_kde(teX)"
   ]
  },
  {
   "cell_type": "code",
   "execution_count": null,
   "metadata": {},
   "outputs": [],
   "source": [
    "plot_kde(X_test_adv)"
   ]
  },
  {
   "cell_type": "code",
   "execution_count": null,
   "metadata": {},
   "outputs": [],
   "source": [
    "plot_kde(teX_cifar)"
   ]
  },
  {
   "cell_type": "code",
   "execution_count": null,
   "metadata": {},
   "outputs": [],
   "source": [
    "plot_kde(X_test_adv.reshape(-1, 32*32*3))"
   ]
  },
  {
   "cell_type": "code",
   "execution_count": null,
   "metadata": {},
   "outputs": [],
   "source": [
    "import matplotlib.pyplot as plt\n",
    "img1 = plt.imread('images/density-mnist.png')\n",
    "img2 = plt.imread('images/density-mnist-adv.png')\n",
    "img3 = plt.imread('images/density-cifar.png')\n",
    "img4 = plt.imread('images/density-cifar-adv.png')\n",
    "print(img1.shape, img2.shape, img3.shape, img4.shape)\n",
    "plt.subplot(121)\n",
    "plt.imshow(img1)\n",
    "plt.axis('off')\n",
    "plt.subplot(122)\n",
    "plt.imshow(img3)\n",
    "# plt.subplot(223)\n",
    "# plt.subplot(img2)\n",
    "# plt.subplot(224)\n",
    "# plt.imshow(img4)\n",
    "plt.axis('off')\n",
    "plt.show()"
   ]
  },
  {
   "cell_type": "code",
   "execution_count": 5,
   "metadata": {
    "scrolled": false
   },
   "outputs": [
    {
     "name": "stderr",
     "output_type": "stream",
     "text": [
      "/Users/jm/anaconda2/envs/adversarial/lib/python2.7/site-packages/keras/engine/topology.py:1242: UserWarning: The `Merge` layer is deprecated and will be removed after 08/2017. Use instead layers from `keras.layers.merge`, e.g. `add`, `concatenate`, etc.\n",
      "  return cls(**config)\n"
     ]
    },
    {
     "ename": "ValueError",
     "evalue": "Optimizer weight shape (32,) not compatible with provided weight shape (16,)",
     "output_type": "error",
     "traceback": [
      "\u001b[0;31m---------------------------------------------------------------------------\u001b[0m",
      "\u001b[0;31mValueError\u001b[0m                                Traceback (most recent call last)",
      "\u001b[0;32m<ipython-input-5-5faeac019031>\u001b[0m in \u001b[0;36m<module>\u001b[0;34m()\u001b[0m\n\u001b[1;32m     12\u001b[0m \u001b[0;31m# plt.show()\u001b[0m\u001b[0;34m\u001b[0m\u001b[0;34m\u001b[0m\u001b[0m\n\u001b[1;32m     13\u001b[0m \u001b[0;31m# ae.evaluate(teX, teY)\u001b[0m\u001b[0;34m\u001b[0m\u001b[0;34m\u001b[0m\u001b[0m\n\u001b[0;32m---> 14\u001b[0;31m \u001b[0mresnet\u001b[0m \u001b[0;34m=\u001b[0m \u001b[0mload_model\u001b[0m\u001b[0;34m(\u001b[0m\u001b[0;34m'models/resnet_mnist.hdf5'\u001b[0m\u001b[0;34m)\u001b[0m\u001b[0;34m\u001b[0m\u001b[0m\n\u001b[0m\u001b[1;32m     15\u001b[0m \u001b[0mhrnn\u001b[0m \u001b[0;34m=\u001b[0m \u001b[0mload_model\u001b[0m\u001b[0;34m(\u001b[0m\u001b[0;34m'models/hrnn_mnist.hdf5'\u001b[0m\u001b[0;34m)\u001b[0m\u001b[0;34m\u001b[0m\u001b[0m\n\u001b[1;32m     16\u001b[0m \u001b[0mirnn\u001b[0m \u001b[0;34m=\u001b[0m \u001b[0mload_model\u001b[0m\u001b[0;34m(\u001b[0m\u001b[0;34m'models/irnn_mnist.hdf5'\u001b[0m\u001b[0;34m)\u001b[0m\u001b[0;34m\u001b[0m\u001b[0m\n",
      "\u001b[0;32m/Users/jm/anaconda2/envs/adversarial/lib/python2.7/site-packages/keras/models.pyc\u001b[0m in \u001b[0;36mload_model\u001b[0;34m(filepath, custom_objects, compile)\u001b[0m\n\u001b[1;32m    289\u001b[0m             optimizer_weight_values = [optimizer_weights_group[n] for n in\n\u001b[1;32m    290\u001b[0m                                        optimizer_weight_names]\n\u001b[0;32m--> 291\u001b[0;31m             \u001b[0mmodel\u001b[0m\u001b[0;34m.\u001b[0m\u001b[0moptimizer\u001b[0m\u001b[0;34m.\u001b[0m\u001b[0mset_weights\u001b[0m\u001b[0;34m(\u001b[0m\u001b[0moptimizer_weight_values\u001b[0m\u001b[0;34m)\u001b[0m\u001b[0;34m\u001b[0m\u001b[0m\n\u001b[0m\u001b[1;32m    292\u001b[0m     \u001b[0;32mreturn\u001b[0m \u001b[0mmodel\u001b[0m\u001b[0;34m\u001b[0m\u001b[0m\n\u001b[1;32m    293\u001b[0m \u001b[0;34m\u001b[0m\u001b[0m\n",
      "\u001b[0;32m/Users/jm/anaconda2/envs/adversarial/lib/python2.7/site-packages/keras/optimizers.pyc\u001b[0m in \u001b[0;36mset_weights\u001b[0;34m(self, weights)\u001b[0m\n\u001b[1;32m    101\u001b[0m                                  \u001b[0mstr\u001b[0m\u001b[0;34m(\u001b[0m\u001b[0mpv\u001b[0m\u001b[0;34m.\u001b[0m\u001b[0mshape\u001b[0m\u001b[0;34m)\u001b[0m \u001b[0;34m+\u001b[0m\u001b[0;34m\u001b[0m\u001b[0m\n\u001b[1;32m    102\u001b[0m                                  \u001b[0;34m' not compatible with '\u001b[0m\u001b[0;34m\u001b[0m\u001b[0m\n\u001b[0;32m--> 103\u001b[0;31m                                  'provided weight shape ' + str(w.shape))\n\u001b[0m\u001b[1;32m    104\u001b[0m             \u001b[0mweight_value_tuples\u001b[0m\u001b[0;34m.\u001b[0m\u001b[0mappend\u001b[0m\u001b[0;34m(\u001b[0m\u001b[0;34m(\u001b[0m\u001b[0mp\u001b[0m\u001b[0;34m,\u001b[0m \u001b[0mw\u001b[0m\u001b[0;34m)\u001b[0m\u001b[0;34m)\u001b[0m\u001b[0;34m\u001b[0m\u001b[0m\n\u001b[1;32m    105\u001b[0m         \u001b[0mK\u001b[0m\u001b[0;34m.\u001b[0m\u001b[0mbatch_set_value\u001b[0m\u001b[0;34m(\u001b[0m\u001b[0mweight_value_tuples\u001b[0m\u001b[0;34m)\u001b[0m\u001b[0;34m\u001b[0m\u001b[0m\n",
      "\u001b[0;31mValueError\u001b[0m: Optimizer weight shape (32,) not compatible with provided weight shape (16,)"
     ]
    }
   ],
   "source": [
    "# from models import mlp, cnn, conv_ae\n",
    "# mlp = mlp((2,))\n",
    "# cnn = cnn((2,))\n",
    "# cnn.summary()\n",
    "# ae = conv_ae((2,))\n",
    "# mod.summary()\n",
    "mlp = load_model('models/mlp_mnist.hdf5')\n",
    "cnn = load_model('models/cnn_mnist.hdf5')\n",
    "ae = load_model('models/conv_ae_mnist.hdf5')\n",
    "# teX = teX + np.random.randn(teX.shape[0], 28, 28, 1)\n",
    "# plt.imshow(np.squeeze(X_test_adv[1234]), cmap=plt.cm.inferno)\n",
    "# plt.show()\n",
    "# ae.evaluate(teX, teY)\n",
    "resnet = load_model('models/resnet_mnist.hdf5')\n",
    "hrnn = load_model('models/hrnn_mnist.hdf5')\n",
    "irnn = load_model('models/irnn_mnist.hdf5')\n",
    "# resnet.summary()\n",
    "# model.summary()\n",
    "models = [(\"MLP\", mlp),\n",
    "         (\"CNN\", cnn),\n",
    "         (\"AE\", ae),\n",
    "         (\"RNet\", ae),\n",
    "         (\"HRNN\", hrnn),\n",
    "         (\"iRNN\", irnn)]\n",
    "from utils import rank_classifiers\n",
    "rank_classifiers(models, trX, trY, teX, teY, X_test_adv, pretrained=True)\n",
    "# from utils import plot_classifier_boundary\n",
    "# plot_classifier_boundary(teX, teY, models)"
   ]
  },
  {
   "cell_type": "code",
   "execution_count": null,
   "metadata": {},
   "outputs": [],
   "source": [
    "%pwd"
   ]
  },
  {
   "cell_type": "code",
   "execution_count": null,
   "metadata": {},
   "outputs": [],
   "source": [
    "from utils import find_top_predictions\n",
    "model = load_model('models/conv_ae_mnist.hdf5')\n",
    "model.summary()\n",
    "imgs, ind = find_top_predictions(model, teX, teY, X_test_adv, 7, img_row=28, img_col=28, img_chn=1)\n"
   ]
  },
  {
   "cell_type": "code",
   "execution_count": null,
   "metadata": {},
   "outputs": [],
   "source": [
    "# imgs[6] = imgs[6] / 255.\n",
    "# imgs = np.load('../adv_imgs.npy')\n",
    "print(np.max(imgs))\n",
    "# np.save('adv_imgs', imgs)\n",
    "# imgs_vis = imgs.copy()\n",
    "print(len(ind))\n",
    "print(imgs[2].shape)\n",
    "print(ind[2])\n",
    "plt.imshow(teX[np.int32(ind[2])].reshape(28, 28))\n",
    "plt.show()\n",
    "# plt.imshow(trX[np.int32(ind[0])].reshape(28, 28))\n",
    "# plt.show()"
   ]
  },
  {
   "cell_type": "code",
   "execution_count": null,
   "metadata": {},
   "outputs": [],
   "source": [
    "from utils import denoising_dictionary_learning\n",
    "recons = denoising_dictionary_learning(teX[np.int32(ind[1])].reshape(28, 28), X_test_adv[np.int32(ind[1])].reshape(28, 28))\n"
   ]
  },
  {
   "cell_type": "code",
   "execution_count": null,
   "metadata": {},
   "outputs": [],
   "source": [
    "recons.keys()\n",
    "recon_img = recons['OMP\\n38 atoms']\n",
    "np.argmax(model.predict(recon_img.reshape(1, 28, 28, 1)), axis=1)"
   ]
  },
  {
   "cell_type": "code",
   "execution_count": null,
   "metadata": {},
   "outputs": [],
   "source": [
    "from utils import tsne, plot_2d_embedding\n",
    "if teX.ndim >= 3 and X_test_adv.ndim >= 3 and teX_cifar.ndim >= 3:\n",
    "    teX = teX.reshape(-1, np.prod(teX.shape[1:]))\n",
    "    X_test_adv = X_test_adv.reshape(-1, np.prod(X_test_adv.shape[1:]))\n",
    "    teX_cifar = teX_cifar.reshape(-1, np.prod(teX_cifar.shape[1:]))\n",
    "print teX.shape, teX_cifar.shape\n",
    "# teX_emb = tsne(teX)\n",
    "# teX_cifar_emb = tsne(teX_cifar)\n",
    "np.save('teX_emb', teX_emb)\n",
    "np.save('teX_cifar_emb', teX_cifar_emb)\n",
    "fig = plt.figure(figsize=(10, 4))\n",
    "ax = plt.axes(frameon=True)\n",
    "plt.setp(ax, xticks=(), yticks=())\n",
    "plt.subplot(121)\n",
    "plt.scatter(teX_emb[:, 0], teX_emb[:, 1], c=np.argmax(teY, axis=1), marker=\"x\")\n",
    "plt.axis('off')\n",
    "plt.colorbar()\n",
    "plt.subplot(122)\n",
    "plt.scatter(teX_cifar_emb[:, 0], teX_cifar_emb[:, 1], c=teY_cifar, marker=\"x\")\n",
    "plt.axis('off')\n",
    "plt.colorbar()\n",
    "plt.show()\n",
    "# teX_emb_adv = tsne(X_test_adv)\n",
    "# teX_emb = np.load('mlp_teX_emb.npy')\n",
    "# teX_emb_adv = np.load('mlp_teX_emb_adv.npy')\n",
    "# plot_2d_embedding(teX, np.argmax(teY, axis=1), teX_emb, 'MNIST test data', min_dist=None)\n",
    "# plot_2d_embedding(teX, np.argmax(teY, axis=1), teX_emb_adv, 'MNIST perturbed test data', min_dist=None)\n"
   ]
  },
  {
   "cell_type": "code",
   "execution_count": null,
   "metadata": {},
   "outputs": [],
   "source": [
    "import matplotlib.pyplot as plt\n",
    "from utils import visualize_hypercolumns\n",
    "result = visualize_hypercolumns(model, imgs[0], layers_extract=np.arange(57))\n",
    "# plt.imshow(np.average(result, axis=2))\n",
    "plt.imshow(result)\n",
    "plt.axis('off')\n",
    "plt.show()"
   ]
  },
  {
   "cell_type": "code",
   "execution_count": null,
   "metadata": {
    "scrolled": false
   },
   "outputs": [],
   "source": [
    "from utils import vis_cam\n",
    "# vis_cam(model, imgs[0].reshape(1,784), 'dense_1', mode='dense')\n",
    "np.max(imgs[3])"
   ]
  },
  {
   "cell_type": "code",
   "execution_count": null,
   "metadata": {},
   "outputs": [],
   "source": [
    "vis_cam(model, imgs[3], 'dense_1', mode='cam', penultimate_layer_idx=57)"
   ]
  },
  {
   "cell_type": "code",
   "execution_count": null,
   "metadata": {},
   "outputs": [],
   "source": [
    "import matplotlib.pyplot as plt\n",
    "orig = teX[np.int32(ind)]\n",
    "adv = X_test_adv[np.int32(ind)]\n",
    "fig, axes = plt.subplots(2, len(orig))\n",
    "for idx, (im, adv) in enumerate(zip(orig, adv)):\n",
    "    axes[0][idx].imshow(np.squeeze(im), cmap='gray_r')\n",
    "    axes[1][idx].imshow(np.squeeze(adv), cmap='gray')\n",
    "plt.show()"
   ]
  },
  {
   "cell_type": "code",
   "execution_count": null,
   "metadata": {},
   "outputs": [],
   "source": [
    "print imgs[0].shape\n",
    "print np.max(imgs[5])"
   ]
  },
  {
   "cell_type": "code",
   "execution_count": null,
   "metadata": {
    "collapsed": true
   },
   "outputs": [],
   "source": [
    "print imgs[0].shape\n",
    "print imgs[0].dtype\n",
    "print np.max(imgs[0])\n",
    "print np.max(teX)\n",
    "print teX.dtype\n",
    "print teX.shape\n",
    "print np.max(X_test_adv)\n",
    "print X_test_adv.shape\n",
    "print X_test_adv.dtype\n",
    "# import matplotlib.pyplot as plt\n",
    "plt.imshow(np.squeeze(imgs[0]), cmap='gray_r')\n",
    "plt.show()"
   ]
  },
  {
   "cell_type": "code",
   "execution_count": null,
   "metadata": {},
   "outputs": [],
   "source": [
    "vis_cam(model, imgs[0], 'dense_1', mode='dense', penultimate_layer_idx=2)"
   ]
  },
  {
   "cell_type": "code",
   "execution_count": null,
   "metadata": {
    "collapsed": true
   },
   "outputs": [],
   "source": [
    "if np.max(teX) == 255:\n",
    "    teX = np.float32(teX / 255.)\n",
    "if np.max(imgs) == 255:\n",
    "    imgs = np.float32(imgs / 255.)\n",
    "print np.max(teX)\n",
    "print teX.dtype\n",
    "print teX.shape\n",
    "print np.max(X_test_adv)\n",
    "print X_test_adv.shape\n",
    "print X_test_adv.dtype\n",
    "print np.max(imgs)"
   ]
  },
  {
   "cell_type": "code",
   "execution_count": null,
   "metadata": {
    "collapsed": true
   },
   "outputs": [],
   "source": [
    "from keras import backend as K\n",
    "K.int_shape(model.layers[2].output)[3]"
   ]
  },
  {
   "cell_type": "code",
   "execution_count": null,
   "metadata": {},
   "outputs": [],
   "source": [
    "from grad_cam import run_gradcam\n",
    "import matplotlib.pyplot as plt\n",
    "grad, heat = run_gradcam(model, 'test', imgs[3], 3, 'conv2d_21')\n",
    "print grad.shape, heat.shape, np.max(imgs)\n",
    "plt.imshow(grad)\n",
    "plt.show()\n",
    "plt.imshow(heat)\n",
    "plt.show()"
   ]
  },
  {
   "cell_type": "code",
   "execution_count": null,
   "metadata": {},
   "outputs": [],
   "source": [
    "from scipy.misc import face\n",
    "img = face() / 255.\n",
    "img = img[250:250+28, 250:250+28, :1]\n",
    "img.shape\n",
    "grad, heat = run_gradcam(model, 'test', img, 7, 'conv2d_2')\n",
    "print grad.shape, heat.shape, np.max(imgs)\n",
    "plt.imshow(grad)\n",
    "plt.show()\n",
    "plt.imshow(heat)\n",
    "plt.show()"
   ]
  },
  {
   "cell_type": "code",
   "execution_count": null,
   "metadata": {
    "scrolled": false
   },
   "outputs": [],
   "source": [
    "from utils import visualize_cmap\n",
    "# targets = [6, 6, 5, 3, 5, 7, 2]\n",
    "# for img, target in zip(imgs, targets):\n",
    "#     visualize_cmap(model, img, layer_name='conv2d_2', target_class=target)\n",
    "img = visualize_cmap(model, imgs[4], layer_name='conv2d_21', target_class=8)\n",
    "plt.imshow(img)\n",
    "plt.show()"
   ]
  },
  {
   "cell_type": "code",
   "execution_count": null,
   "metadata": {},
   "outputs": [],
   "source": [
    "print np.max(imgs)"
   ]
  },
  {
   "cell_type": "code",
   "execution_count": null,
   "metadata": {},
   "outputs": [],
   "source": [
    "from utils import visualize_hypercolumns\n",
    "import matplotlib.pyplot as plt\n",
    "results = np.zeros(imgs.shape[:3] + (3,))\n",
    "for idx, img in enumerate(imgs):\n",
    "    results[idx] = visualize_hypercolumns(model, img, layers_extract=np.arange(30))\n",
    "    \n",
    "fig, axes = plt.subplots(1, 7)\n",
    "fig.subplots_adjust(top=1.3, right=2)\n",
    "for idx, img in enumerate(results):\n",
    "    axes[idx].imshow(img)\n",
    "    axes[idx].axis('off')\n",
    "plt.show()\n",
    "# print result.shape\n",
    "# print np.max(result)"
   ]
  },
  {
   "cell_type": "code",
   "execution_count": null,
   "metadata": {},
   "outputs": [],
   "source": [
    "import matplotlib.pyplot as plt\n",
    "result = visualize_hypercolumns(model, imgs[0], layers_extract=np.arange(4))\n",
    "# plt.imshow(np.average(result, axis=2))\n",
    "plt.imshow(result)\n",
    "plt.axis('off')\n",
    "plt.show()"
   ]
  },
  {
   "cell_type": "code",
   "execution_count": null,
   "metadata": {
    "collapsed": true
   },
   "outputs": [],
   "source": [
    "from utils import visualize_occlussion_map\n",
    "occlusion = visualize_occlussion_map(model, orig[0])"
   ]
  },
  {
   "cell_type": "code",
   "execution_count": null,
   "metadata": {
    "collapsed": true
   },
   "outputs": [],
   "source": [
    "model.predict(np.expand_dims(teX[2434], axis=0))\n",
    "# print np.max(teX)\n",
    "# print np.max(imgs)"
   ]
  },
  {
   "cell_type": "code",
   "execution_count": null,
   "metadata": {
    "collapsed": true
   },
   "outputs": [],
   "source": [
    "from filter_vis import vis_filter\n",
    "# from keras import backend as K\n",
    "# K.set_learning_phase(0)\n",
    "vis_filter(model, 'conv2d_21', img_width=28, img_height=28, nb_filters=64, nb_channels=1, nb_iter=500)"
   ]
  },
  {
   "cell_type": "code",
   "execution_count": null,
   "metadata": {
    "collapsed": true
   },
   "outputs": [],
   "source": [
    "%run main.py -ds mnist -m cnn_model -pr True -sc 1"
   ]
  },
  {
   "cell_type": "code",
   "execution_count": null,
   "metadata": {
    "collapsed": true
   },
   "outputs": [],
   "source": [
    "from utils import vis_cam\n",
    "vis_cam(model, X_test_adv[5].reshape(1,28,28,1), 'dense_1')"
   ]
  },
  {
   "cell_type": "code",
   "execution_count": null,
   "metadata": {
    "collapsed": true
   },
   "outputs": [],
   "source": [
    "np.save('X_test_adv', X_test_adv)"
   ]
  }
 ],
 "metadata": {
  "kernelspec": {
   "display_name": "Python [conda env:adversarial]",
   "language": "python",
   "name": "conda-env-adversarial-py"
  },
  "language_info": {
   "codemirror_mode": {
    "name": "ipython",
    "version": 2
   },
   "file_extension": ".py",
   "mimetype": "text/x-python",
   "name": "python",
   "nbconvert_exporter": "python",
   "pygments_lexer": "ipython2",
   "version": "2.7.13"
  }
 },
 "nbformat": 4,
 "nbformat_minor": 2
}
